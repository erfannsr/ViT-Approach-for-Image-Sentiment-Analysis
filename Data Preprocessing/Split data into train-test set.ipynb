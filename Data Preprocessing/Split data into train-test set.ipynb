{
 "cells": [
  {
   "cell_type": "code",
   "execution_count": 1,
   "id": "df583806",
   "metadata": {},
   "outputs": [
    {
     "name": "stdout",
     "output_type": "stream",
     "text": [
      "بسم الله الرحمن الرحیم\n"
     ]
    }
   ],
   "source": [
    "print(\"بسم الله الرحمن الرحیم\")"
   ]
  },
  {
   "cell_type": "code",
   "execution_count": 2,
   "id": "52138eba",
   "metadata": {},
   "outputs": [],
   "source": [
    "import os\n",
    "import shutil\n",
    "from torchvision.datasets import ImageFolder\n",
    "from sklearn.model_selection import train_test_split"
   ]
  },
  {
   "cell_type": "code",
   "execution_count": 3,
   "id": "46dc0fe6",
   "metadata": {},
   "outputs": [],
   "source": [
    "data_path = 'Dataset/MyDFMSD/'\n",
    "train_path = 'Dataset/Split/TrainData/'\n",
    "test_path = 'Dataset/Split/TestData/'\n",
    "val_path = 'Dataset/Split/ValData'"
   ]
  },
  {
   "cell_type": "code",
   "execution_count": 4,
   "id": "08d97e26",
   "metadata": {},
   "outputs": [],
   "source": [
    "fullData = ImageFolder(root = data_path)"
   ]
  },
  {
   "cell_type": "code",
   "execution_count": 5,
   "id": "147e0ffe",
   "metadata": {},
   "outputs": [],
   "source": [
    "# Get the indices for splitting\n",
    "indices = list(range(len(fullData)))\n",
    "train_indices, test_indices = train_test_split(indices, test_size=0.1, random_state=42)"
   ]
  },
  {
   "cell_type": "code",
   "execution_count": 6,
   "id": "0e4ce47a",
   "metadata": {},
   "outputs": [],
   "source": [
    "# Create directories for train and test data\n",
    "os.makedirs(train_path, exist_ok=True)\n",
    "os.makedirs(test_path, exist_ok=True)\n",
    "os.makedirs(val_path, exist_ok=True)"
   ]
  },
  {
   "cell_type": "code",
   "execution_count": 7,
   "id": "056524c6",
   "metadata": {},
   "outputs": [
    {
     "name": "stderr",
     "output_type": "stream",
     "text": [
      "100%|████████████████████████████████████████████████████████████████████████████| 12038/12038 [02:06<00:00, 95.34it/s]\n",
      "100%|██████████████████████████████████████████████████████████████████████████████| 1338/1338 [00:15<00:00, 88.83it/s]\n"
     ]
    }
   ],
   "source": [
    "# Copy images to train and test directories based on indices\n",
    "from tqdm import tqdm\n",
    "for idx in tqdm(train_indices):\n",
    "    filename = fullData.imgs[idx][0]\n",
    "    label = fullData.imgs[idx][1]\n",
    "    label_name = fullData.classes[label]\n",
    "    destination = os.path.join(train_path, label_name)\n",
    "    os.makedirs(destination, exist_ok=True)\n",
    "    shutil.copy(filename, destination)\n",
    "\n",
    "for idx in tqdm(test_indices):\n",
    "    filename = fullData.imgs[idx][0]\n",
    "    label = fullData.imgs[idx][1]\n",
    "    label_name = fullData.classes[label]\n",
    "    destination = os.path.join(test_path, label_name)\n",
    "    os.makedirs(destination, exist_ok=True)\n",
    "    shutil.copy(filename, destination)"
   ]
  },
  {
   "cell_type": "markdown",
   "id": "a1463e0e",
   "metadata": {},
   "source": [
    "#### Split TrainData into Training and Validation sets"
   ]
  },
  {
   "cell_type": "code",
   "execution_count": 8,
   "id": "ac4ed9d8",
   "metadata": {},
   "outputs": [
    {
     "name": "stdout",
     "output_type": "stream",
     "text": [
      "Size of train-positive before split: 7497\n"
     ]
    }
   ],
   "source": [
    "print('Size of train-positive before split: ' + str(len(os.listdir(os.path.join(train_path, 'positive')))))"
   ]
  },
  {
   "cell_type": "code",
   "execution_count": 9,
   "id": "3a2ad4be",
   "metadata": {},
   "outputs": [
    {
     "name": "stdout",
     "output_type": "stream",
     "text": [
      "Creating Validation Set...\n"
     ]
    }
   ],
   "source": [
    "trainData = ImageFolder(root = train_path)\n",
    "# Get the indices for splitting\n",
    "indices = list(range(len(trainData)))\n",
    "train_indices, val_indices = train_test_split(indices, test_size=0.1, random_state=42)\n",
    "\n",
    "# Create directories for train and test data\n",
    "os.makedirs(val_path, exist_ok=True)\n",
    "\n",
    "# Copy images to train and test directories based on indices\n",
    "print(\"Creating Validation Set...\")\n",
    "for idx in val_indices:\n",
    "    filename = trainData.imgs[idx][0]\n",
    "    label = trainData.imgs[idx][1]\n",
    "    label_name = trainData.classes[label]\n",
    "    destination = os.path.join(val_path, label_name)\n",
    "    os.makedirs(destination, exist_ok=True)\n",
    "    shutil.move(filename, destination)"
   ]
  },
  {
   "cell_type": "code",
   "execution_count": 10,
   "id": "23d477a9",
   "metadata": {},
   "outputs": [
    {
     "name": "stdout",
     "output_type": "stream",
     "text": [
      "Size of train-positive after split: 6754\n"
     ]
    }
   ],
   "source": [
    "print('Size of train-positive after split: ' + str(len(os.listdir(os.path.join(train_path, 'positive')))))"
   ]
  },
  {
   "cell_type": "code",
   "execution_count": null,
   "id": "cffc5aed",
   "metadata": {},
   "outputs": [],
   "source": []
  }
 ],
 "metadata": {
  "kernelspec": {
   "display_name": "Python 3 (ipykernel)",
   "language": "python",
   "name": "python3"
  },
  "language_info": {
   "codemirror_mode": {
    "name": "ipython",
    "version": 3
   },
   "file_extension": ".py",
   "mimetype": "text/x-python",
   "name": "python",
   "nbconvert_exporter": "python",
   "pygments_lexer": "ipython3",
   "version": "3.10.9"
  }
 },
 "nbformat": 4,
 "nbformat_minor": 5
}
